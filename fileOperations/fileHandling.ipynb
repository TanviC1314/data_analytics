{
 "cells": [
  {
   "cell_type": "code",
   "execution_count": 1,
   "metadata": {},
   "outputs": [
    {
     "name": "stdout",
     "output_type": "stream",
     "text": [
      "the variable has not been assigned\n"
     ]
    }
   ],
   "source": [
    "#exception handling\n",
    "\n",
    "try:\n",
    "    a=b\n",
    "except:\n",
    "    print(\"the variable has not been assigned\")"
   ]
  },
  {
   "cell_type": "code",
   "execution_count": 2,
   "metadata": {},
   "outputs": [
    {
     "name": "stdout",
     "output_type": "stream",
     "text": [
      "name 'b' is not defined\n"
     ]
    }
   ],
   "source": [
    "#exception handling\n",
    "\n",
    "try:\n",
    "    a=b\n",
    "except NameError as ex:\n",
    "    print(ex)"
   ]
  },
  {
   "cell_type": "code",
   "execution_count": 5,
   "metadata": {},
   "outputs": [
    {
     "name": "stdout",
     "output_type": "stream",
     "text": [
      "division by zero\n"
     ]
    }
   ],
   "source": [
    "try:\n",
    "    result = 1/0\n",
    "except ZeroDivisionError as ex:\n",
    "    print(ex)"
   ]
  },
  {
   "cell_type": "code",
   "execution_count": null,
   "metadata": {},
   "outputs": [
    {
     "name": "stdout",
     "output_type": "stream",
     "text": [
      "division by zero\n"
     ]
    }
   ],
   "source": [
    "try:\n",
    "    result = 1/0\n",
    "except ZeroDivisionError as ex:\n",
    "    print(ex)\n",
    "except Exception as ex1: #always write this at end\n",
    "    print(ex1)"
   ]
  },
  {
   "cell_type": "code",
   "execution_count": null,
   "metadata": {},
   "outputs": [
    {
     "name": "stdout",
     "output_type": "stream",
     "text": [
      "division by zero\n"
     ]
    }
   ],
   "source": [
    "#else\n",
    "\n",
    "try:\n",
    "    num=int(input(\"Enter no: \"))\n",
    "    result=10/num\n",
    "except NameError as ex:\n",
    "    print(ex)\n",
    "except Exception as ex1: \n",
    "    print(ex1)\n",
    "else:\n",
    "    print(f\"rsult: {result}\")"
   ]
  },
  {
   "cell_type": "code",
   "execution_count": null,
   "metadata": {},
   "outputs": [
    {
     "name": "stdout",
     "output_type": "stream",
     "text": [
      "division by zero\n",
      "Execution completed\n"
     ]
    }
   ],
   "source": [
    "#finally let the code have error or not still it will execute finally\n",
    "\n",
    "try:\n",
    "    num=int(input(\"Enter no: \"))\n",
    "    result=10/num\n",
    "except NameError as ex:\n",
    "    print(ex)\n",
    "except Exception as ex1: \n",
    "    print(ex1)\n",
    "else:\n",
    "    print(f\"rsult: {result}\")\n",
    "finally:\n",
    "    print(\"Execution completed\")"
   ]
  },
  {
   "cell_type": "code",
   "execution_count": 14,
   "metadata": {},
   "outputs": [
    {
     "name": "stdout",
     "output_type": "stream",
     "text": [
      "Hello World\n",
      "Bobo is a great superhero!\n",
      "Octobot is his bestfriend\n",
      "file closed\n"
     ]
    }
   ],
   "source": [
    "#finally let the code have error or not still it will execute finally\n",
    "\n",
    "try:\n",
    "    file=open('example.txt','r')\n",
    "    content=file.read()\n",
    "    print(content)\n",
    "except FileNotFoundError:\n",
    "    print(\"File doesn't exist\")\n",
    "except Exception as ex1: \n",
    "    print(ex1)\n",
    "finally:\n",
    "    if 'file' in locals() or not file.closed():\n",
    "        file.close()\n",
    "        print('file closed')"
   ]
  }
 ],
 "metadata": {
  "kernelspec": {
   "display_name": "Python 3",
   "language": "python",
   "name": "python3"
  },
  "language_info": {
   "codemirror_mode": {
    "name": "ipython",
    "version": 3
   },
   "file_extension": ".py",
   "mimetype": "text/x-python",
   "name": "python",
   "nbconvert_exporter": "python",
   "pygments_lexer": "ipython3",
   "version": "3.10.6"
  }
 },
 "nbformat": 4,
 "nbformat_minor": 2
}
