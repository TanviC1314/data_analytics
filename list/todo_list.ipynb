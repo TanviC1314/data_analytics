{
 "cells": [
  {
   "cell_type": "code",
   "execution_count": 16,
   "metadata": {},
   "outputs": [
    {
     "name": "stdout",
     "output_type": "stream",
     "text": [
      "b is present\n",
      "['b']\n",
      "a is not present\n",
      "['b', 'c']\n"
     ]
    }
   ],
   "source": [
    "ans = \"Yes\"\n",
    "my_list = []\n",
    "while ans.lower() in [\"yes\", \"y\", \"1\"]:\n",
    "\t\n",
    "\toper = input(\"1.Add 2.Remove 3.Search 4.View: \")\n",
    "\tif oper == \"1\":\n",
    "\t\tadd = input(\"Add item: \")\n",
    "\t\tmy_list.append(add)\n",
    "\telif oper== \"2\":\n",
    "\t\trem=input(\"Enter Item name you want to remove: \")\n",
    "\t\tmy_list.remove(rem)\n",
    "\telif oper == \"3\":\n",
    "\t\tser=input(\"Enter Item name you want to search: \")\n",
    "\t\tif ser in my_list:\n",
    "\t\t\tprint(f'{ser} is present')\n",
    "\t\telse:\n",
    "\t\t\tprint(f'{ser} is not present')\n",
    "\telif oper == \"4\":\n",
    "\t\tprint(my_list)\n",
    "\tans = input(\"Do you want to continue? (Yes/No): \")"
   ]
  }
 ],
 "metadata": {
  "kernelspec": {
   "display_name": "Python 3",
   "language": "python",
   "name": "python3"
  },
  "language_info": {
   "codemirror_mode": {
    "name": "ipython",
    "version": 3
   },
   "file_extension": ".py",
   "mimetype": "text/x-python",
   "name": "python",
   "nbconvert_exporter": "python",
   "pygments_lexer": "ipython3",
   "version": "3.10.6"
  }
 },
 "nbformat": 4,
 "nbformat_minor": 2
}
