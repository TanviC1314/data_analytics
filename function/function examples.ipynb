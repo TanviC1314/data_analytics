{
 "cells": [
  {
   "cell_type": "code",
   "execution_count": 10,
   "metadata": {},
   "outputs": [
    {
     "name": "stdout",
     "output_type": "stream",
     "text": [
      "77.0\n"
     ]
    }
   ],
   "source": [
    "#Temprature Conversion\n",
    "def c_to_f(temp):\n",
    "    \n",
    "    print((temp*9/5)+32)\n",
    "\n",
    "\n",
    "def f_to_c(temp):\n",
    "    print((temp-32)*5/9)\n",
    "    \n",
    "\n",
    "ans=input(\"1.Celsius to Fahrenheite Press 2.Fahrenheite to Celsius\")\n",
    "temp=input(\"Enter temprature\")\n",
    "if ans==\"1\":\n",
    "    c_to_f(int(temp))\n",
    "elif ans==\"2\":\n",
    "    f_to_c(int(temp))\n",
    "else:\n",
    "    print(\"Not valid\")"
   ]
  },
  {
   "cell_type": "markdown",
   "metadata": {},
   "source": [
    "###Strong Password"
   ]
  },
  {
   "cell_type": "code",
   "execution_count": null,
   "metadata": {},
   "outputs": [
    {
     "name": "stdout",
     "output_type": "stream",
     "text": [
      "Your password 'abc' must contain a special character contain a Upper case charcter contain a digit be of 8 or more character"
     ]
    }
   ],
   "source": [
    "\n",
    "import re\n",
    "\n",
    "def password_checker(pasw):\n",
    "    up=any(i.isupper() for i in pasw)\n",
    "    dig=any(i.isdigit() for i in pasw)\n",
    "    regx = re.compile('[@_!#$%^&*()<>?/\\|}{~:]')\n",
    "    leng=len(pasw)<8\n",
    "\n",
    "    if up==True and dig==True and leng==True and regx.search(pasw) != None:\n",
    "        print(\"Your Password is strong\")\n",
    "    else:\n",
    "        print(f\"Your password '{pasw}' must\", end=\"\")\n",
    "\n",
    "        if(regx.search(pasw) == None):\n",
    "            print(\" contain a special character\", end=\"\")\n",
    "        if up!=True:\n",
    "            print(\" contain a Upper case charcter\", end=\"\")\n",
    "        if dig!=True:\n",
    "            print(\" contain a digit\", end=\"\")\n",
    "        if len(pasw)<8:\n",
    "            print(\" be of 8 or more character\", end=\"\")\n",
    "    \n",
    "\n",
    "pasw=input(\"Enter your Password: \")\n",
    "password_checker(pasw)"
   ]
  },
  {
   "cell_type": "markdown",
   "metadata": {},
   "source": [
    "###Cart total"
   ]
  },
  {
   "cell_type": "code",
   "execution_count": null,
   "metadata": {},
   "outputs": [],
   "source": [
    "cart={}\n",
    "\n",
    "def item_details():\n",
    "    total=0\n",
    "    cart.update({input(\"item name: \"):int(input(\"item price: \"))})\n",
    "    for item in cart.values():\n",
    "        total+=item\n",
    "    print(total)\n",
    "\n",
    "cont=\"1\"\n",
    "while cont==\"1\":\n",
    "    item_details()\n",
    "    cont=input(\"If you want to continue press 1: \")\n"
   ]
  },
  {
   "cell_type": "markdown",
   "metadata": {},
   "source": [
    "###factorial"
   ]
  },
  {
   "cell_type": "code",
   "execution_count": 58,
   "metadata": {},
   "outputs": [
    {
     "name": "stdout",
     "output_type": "stream",
     "text": [
      "120\n"
     ]
    }
   ],
   "source": [
    "\n",
    "def facto(no):\n",
    "    fact=1\n",
    "    while no>=1:\n",
    "        fact*=no\n",
    "        no-=1\n",
    "    print(fact)\n",
    "\n",
    "num = int(input(\"enter no\"))\n",
    "facto(num)\n",
    "\n",
    "\n",
    "\n",
    "\n"
   ]
  }
 ],
 "metadata": {
  "kernelspec": {
   "display_name": "Python 3",
   "language": "python",
   "name": "python3"
  },
  "language_info": {
   "codemirror_mode": {
    "name": "ipython",
    "version": 3
   },
   "file_extension": ".py",
   "mimetype": "text/x-python",
   "name": "python",
   "nbconvert_exporter": "python",
   "pygments_lexer": "ipython3",
   "version": "3.10.6"
  }
 },
 "nbformat": 4,
 "nbformat_minor": 2
}
