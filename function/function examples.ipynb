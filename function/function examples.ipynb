{
 "cells": [
  {
   "cell_type": "code",
   "execution_count": 10,
   "metadata": {},
   "outputs": [
    {
     "name": "stdout",
     "output_type": "stream",
     "text": [
      "77.0\n"
     ]
    }
   ],
   "source": [
    "#Temprature Conversion\n",
    "def c_to_f(temp):\n",
    "    \n",
    "    print((temp*9/5)+32)\n",
    "\n",
    "\n",
    "def f_to_c(temp):\n",
    "    print((temp-32)*5/9)\n",
    "    \n",
    "\n",
    "ans=input(\"1.Celsius to Fahrenheite Press 2.Fahrenheite to Celsius\")\n",
    "temp=input(\"Enter temprature\")\n",
    "if ans==\"1\":\n",
    "    c_to_f(int(temp))\n",
    "elif ans==\"2\":\n",
    "    f_to_c(int(temp))\n",
    "else:\n",
    "    print(\"Not valid\")"
   ]
  }
 ],
 "metadata": {
  "kernelspec": {
   "display_name": "Python 3",
   "language": "python",
   "name": "python3"
  },
  "language_info": {
   "codemirror_mode": {
    "name": "ipython",
    "version": 3
   },
   "file_extension": ".py",
   "mimetype": "text/x-python",
   "name": "python",
   "nbconvert_exporter": "python",
   "pygments_lexer": "ipython3",
   "version": "3.10.6"
  }
 },
 "nbformat": 4,
 "nbformat_minor": 2
}
